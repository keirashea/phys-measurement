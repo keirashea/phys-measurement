{
 "cells": [
  {
   "cell_type": "code",
   "execution_count": 1,
   "metadata": {},
   "outputs": [
    {
     "name": "stdout",
     "output_type": "stream",
     "text": [
      "Welcome to JupyROOT 6.14/06\n"
     ]
    }
   ],
   "source": [
    "%matplotlib inline\n",
    "import numpy as np\n",
    "import matplotlib.pyplot as plt\n",
    "import pandas as pd\n",
    "import scipy as sp\n",
    "from scipy.optimize import curve_fit\n",
    "from ROOT import TH1D, TF1, TCanvas\n",
    "\n",
    "\n",
    "t1_df = pd.read_hdf('t1_run885.h5', key='/ORSIS3302DecoderForEnergy')\n",
    "\n",
    "energy = t1_df.energy"
   ]
  },
  {
   "cell_type": "code",
   "execution_count": 2,
   "metadata": {},
   "outputs": [
    {
     "name": "stdout",
     "output_type": "stream",
     "text": [
      " FCN=22.2903 FROM MIGRAD    STATUS=CONVERGED     224 CALLS         225 TOTAL\n",
      "                     EDM=7.84821e-09    STRATEGY= 1  ERROR MATRIX UNCERTAINTY   1.2 per cent\n",
      "  EXT PARAMETER                                   STEP         FIRST   \n",
      "  NO.   NAME      VALUE            ERROR          SIZE      DERIVATIVE \n",
      "   1  p0           2.65830e+03   5.42742e+01  -4.23192e-02   3.22247e-07\n",
      "   2  p1           1.38688e+06   5.14081e+01   3.00042e-02  -1.85610e-06\n",
      "   3  p2           2.46615e+03   3.16170e+01   4.51080e-04   2.50344e-06\n",
      "   4  p3           1.79142e+01   2.43159e+00   7.43445e-03   1.24369e-03\n",
      "   5  p4          -9.97194e-06   1.77831e-06  -5.45755e-09   1.73410e+03\n",
      "                               ERR DEF= 0.5\n",
      " FCN=8.68127 FROM HESSE     STATUS=OK             31 CALLS         309 TOTAL\n",
      "                     EDM=6.73145e-10    STRATEGY= 1      ERROR MATRIX ACCURATE \n",
      "  EXT PARAMETER                                   STEP         FIRST   \n",
      "  NO.   NAME      VALUE            ERROR          SIZE      DERIVATIVE \n",
      "   1  p0           2.21322e+02   1.42604e+01   4.78382e-03  -6.49942e-07\n",
      "   2  p1           2.48063e+06   1.92918e+02   5.91427e-01  -2.22495e-08\n",
      "   3  p2           3.53324e+03   1.75454e+02   4.98047e-02   4.38777e-08\n",
      "   4  p3           6.94130e+00   2.73751e+01   4.74635e-05  -8.37982e-05\n",
      "   5  p4          -2.19802e-06   1.12196e-05   1.94411e-11  -2.02443e+02\n",
      "                               ERR DEF= 0.5\n"
     ]
    },
    {
     "name": "stderr",
     "output_type": "stream",
     "text": [
      "Warning in <TROOT::Append>: Replacing existing TH1: h1d (Potential memory leak).\n",
      "Warning in <TCanvas::Constructor>: Deleting canvas with same name: run_canvas\n"
     ]
    }
   ],
   "source": [
    "energy_list = energy.tolist()\n",
    "hist = TH1D('h1d', 'Uncalibrated Energy Spectrum', 600, 0, 3000000)\n",
    "for i in range(len(energy_list)):\n",
    "    hist.Fill(energy_list[i])\n",
    "hist.SetTitle('Uncalibrated Energy Spectrum')\n",
    "hist.GetYaxis().SetTitle('Count')\n",
    "hist.GetXaxis().SetTitle('Uncalibrated Energy')\n",
    "\n",
    "K_fit = TF1('K', 'gaus(0)+expo(3)', 1340000, 1410000)\n",
    "K_fit.SetParameters(400, 1386500, 3000, 10, -1./400000.)\n",
    "\n",
    "Tl_fit = TF1('Tl', 'gaus(0)+expo(3)', 2400000, 2500000)\n",
    "Tl_fit.SetParameters(25, 2480000, 12000, 10, -1./400000.)\n",
    "\n",
    "run_canvas = TCanvas(\"run_canvas\", \"run canvas\")\n",
    "run_canvas.SetLogy()\n",
    "hist.Fit(K_fit, 'LR')\n",
    "hist.Fit(Tl_fit, 'LR+')\n",
    "hist.Draw()\n",
    "\n",
    "#run_canvas.Print(('~/phys-measurement/885_uncalibrated_fit.pdf' + '['))\n",
    "#run_canvas.Print(('~/phys-measurement/885_uncalibrated_fit.pdf'))\n",
    "#run_canvas.Print(('~/phys-measurement/885_uncalibrated_fit.pdf' + ']'))"
   ]
  },
  {
   "cell_type": "code",
   "execution_count": null,
   "metadata": {},
   "outputs": [],
   "source": []
  }
 ],
 "metadata": {
  "kernelspec": {
   "display_name": "Python 3",
   "language": "python",
   "name": "python3"
  },
  "language_info": {
   "codemirror_mode": {
    "name": "ipython",
    "version": 3
   },
   "file_extension": ".py",
   "mimetype": "text/x-python",
   "name": "python",
   "nbconvert_exporter": "python",
   "pygments_lexer": "ipython3",
   "version": "3.7.4"
  }
 },
 "nbformat": 4,
 "nbformat_minor": 2
}
