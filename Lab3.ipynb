{
 "cells": [
  {
   "cell_type": "markdown",
   "metadata": {},
   "source": [
    "# Lab 3"
   ]
  },
  {
   "cell_type": "markdown",
   "metadata": {},
   "source": [
    "### Keira Hansen and Alex Foster"
   ]
  },
  {
   "cell_type": "markdown",
   "metadata": {},
   "source": [
    "## Problem 1"
   ]
  },
  {
   "cell_type": "markdown",
   "metadata": {},
   "source": [
    "### __(A)__"
   ]
  },
  {
   "cell_type": "code",
   "execution_count": 101,
   "metadata": {},
   "outputs": [
    {
     "data": {
      "image/png": "[encoded data removed]",
      "text/plain": [
       "<Figure size 432x288 with 1 Axes>"
      ]
     },
     "metadata": {
      "needs_background": "light"
     },
     "output_type": "display_data"
    },
    {
     "name": "stdout",
     "output_type": "stream",
     "text": [
      "4.265σ\n",
      "Original length of data = 100000\n",
      "Size of kept data = 99999\n",
      "Lower bound: 10.29404368243087\n",
      "Upper bound: 13.705956317569537\n"
     ]
    }
   ],
   "source": [
    "%matplotlib inline\n",
    "import numpy as np\n",
    "import matplotlib\n",
    "import matplotlib.pyplot as plt\n",
    "import scipy\n",
    "from scipy import stats\n",
    "from scipy import special\n",
    "\n",
    "dist = stats.norm.rvs(loc=12, scale=0.4, size=100000)\n",
    "size = len(dist)\n",
    "\n",
    "x = np.arange(10, 14, 0.1)\n",
    "pdf = stats.norm.pdf(x, loc=12, scale=0.4)\n",
    "\n",
    "np.append(dist, [10.0, 10.3, 2.1, 0.0, 0.0, 15.6, 22.3, 12.7])\n",
    "\n",
    "plt.hist(dist, 100)\n",
    "#plt.plot(x, pdf)\n",
    "plt.show()\n",
    "\n",
    "lower = stats.norm.ppf((1/100000), loc=12, scale=0.4)\n",
    "upper = stats.norm.ppf((1 - 1/100000), loc=12, scale=0.4)\n",
    "\n",
    "\n",
    "sorted_dist = dist.sort(axis=0)\n",
    "i = 0\n",
    "cut_dist = []\n",
    "while dist[i] < lower:\n",
    "    i += 1\n",
    "\n",
    "while i < size and dist[i] <= upper:\n",
    "    cut_dist.append(dist[i])\n",
    "    i += 1\n",
    "\n",
    "ppf = np.abs(stats.norm.ppf(1/100000)) \n",
    "\n",
    "print('%1.3f\\u03C3' % ppf)\n",
    "\n",
    "print(\"Original length of data = \" + str(size))\n",
    "print(\"Size of kept data = \" + str(len(cut_dist)))\n",
    "\n",
    "print(\"Lower bound: \" + str(lower))\n",
    "print(\"Upper bound: \" + str(upper))"
   ]
  },
  {
   "cell_type": "markdown",
   "metadata": {},
   "source": [
    "\n",
    "|     | True | False |\n",
    "|-----|------|-------|\n",
    "| pos | 99999/100000 | 0.25  | \n",
    "| neg | 1/100000    | 0.75  |\n",
    "\n",
    "True-Positive: probability of keeping good data\n",
    "True-Negative: probability of discarding good data\n",
    "False-Positive: probability of keeping bad data\n",
    "False-Negative: probability of discarding bad data"
   ]
  },
  {
   "cell_type": "markdown",
   "metadata": {},
   "source": [
    "### __(B)__"
   ]
  },
  {
   "cell_type": "code",
   "execution_count": null,
   "metadata": {},
   "outputs": [],
   "source": []
  },
  {
   "cell_type": "markdown",
   "metadata": {},
   "source": [
    "### __(C)__"
   ]
  },
  {
   "cell_type": "code",
   "execution_count": null,
   "metadata": {},
   "outputs": [],
   "source": []
  },
  {
   "cell_type": "markdown",
   "metadata": {},
   "source": [
    "## Problem 2"
   ]
  },
  {
   "cell_type": "code",
   "execution_count": null,
   "metadata": {},
   "outputs": [],
   "source": []
  },
  {
   "cell_type": "markdown",
   "metadata": {},
   "source": [
    "## Problem 3"
   ]
  },
  {
   "cell_type": "code",
   "execution_count": null,
   "metadata": {},
   "outputs": [],
   "source": []
  }
 ],
 "metadata": {
  "kernelspec": {
   "display_name": "Python 3",
   "language": "python",
   "name": "python3"
  },
  "language_info": {
   "codemirror_mode": {
    "name": "ipython",
    "version": 3
   },
   "file_extension": ".py",
   "mimetype": "text/x-python",
   "name": "python",
   "nbconvert_exporter": "python",
   "pygments_lexer": "ipython3",
   "version": "3.7.4"
  }
 },
 "nbformat": 4,
 "nbformat_minor": 2
}
